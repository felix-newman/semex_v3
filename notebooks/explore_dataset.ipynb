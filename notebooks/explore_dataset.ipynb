{
 "cells": [
  {
   "cell_type": "code",
   "execution_count": 1,
   "metadata": {},
   "outputs": [],
   "source": [
    "%load_ext autoreload\n",
    "%autoreload 2"
   ]
  },
  {
   "cell_type": "code",
   "execution_count": 8,
   "metadata": {},
   "outputs": [],
   "source": [
    "from datasets import load_dataset\n",
    "from pathlib import Path"
   ]
  },
  {
   "cell_type": "code",
   "execution_count": 9,
   "metadata": {},
   "outputs": [],
   "source": [
    "ds = load_dataset(\"SemanticExtraction/proper_dataset_v3_10k\", split=\"train\")"
   ]
  },
  {
   "cell_type": "code",
   "execution_count": 7,
   "metadata": {},
   "outputs": [
    {
     "data": {
      "text/plain": [
       "PIL.JpegImagePlugin.JpegImageFile"
      ]
     },
     "execution_count": 7,
     "metadata": {},
     "output_type": "execute_result"
    }
   ],
   "source": [
    "type(ds[0][\"image\"])"
   ]
  },
  {
   "cell_type": "code",
   "execution_count": 5,
   "metadata": {},
   "outputs": [],
   "source": [
    "# setup_hf_dataset()"
   ]
  },
  {
   "cell_type": "code",
   "execution_count": 13,
   "metadata": {},
   "outputs": [],
   "source": [
    "chunk = ds[0:5]\n",
    "\n",
    "# Process images in parallel\n",
    "image_tasks = list(\n",
    "    zip(chunk[\"image\"], [Path.cwd() / \"data/images\"] * len(chunk), chunk[\"key\"])\n",
    ")\n",
    "(Path.cwd() / \"data/images\").mkdir(parents=True, exist_ok=True)"
   ]
  },
  {
   "cell_type": "code",
   "execution_count": 4,
   "metadata": {},
   "outputs": [],
   "source": [
    "from semex_v3.data import QwenDataset\n",
    "from pathlib import Path\n",
    "\n",
    "qwen_dataset = QwenDataset(Path.cwd().parent / \"data/hf_conversations.json\")"
   ]
  },
  {
   "cell_type": "code",
   "execution_count": 5,
   "metadata": {},
   "outputs": [
    {
     "data": {
      "text/plain": [
       "{'messages': [{'role': 'system', 'content': 'You are a helpful assistant.'},\n",
       "  {'role': 'user',\n",
       "   'content': [{'type': 'image', 'image': 'images/6640260_p0.jpg'},\n",
       "    {'type': 'text',\n",
       "     'text': 'Extract the semantic information from this image.'}]},\n",
       "  {'role': 'assistant',\n",
       "   'content': [{'type': 'text',\n",
       "     'text': '{\\n    \"page\": 1,\\n    \"header\": \"TOWN HALL  PO Box 10  |  201 N. Railroad Street  |  Ridgway, Colorado 81432  |  970.626.5308  |  www.town.ridgway.co.us\",\\n    \"footer\": null,\\n    \"figures\": [\\n        {\\n            \"bbox\": {\\n                \"top\": 0.6,\\n                \"left\": 0.6,\\n                \"width\": 0.3,\\n                \"height\": 0.3\\n            },\\n            \"description\": \"A construction site with a wooden structure and some equipment.\",\\n            \"caption\": null\\n        }\\n    ],\\n    \"forms\": [],\\n    \"tables\": [],\\n    \"text\": \"# WRITTEN REPORT\\\\n\\\\n**To:** Honorable Mayor Clark and Ridgway Town Council  \\\\n**From:** Preston Neill, Town Manager  \\\\n**Date:** May 10, 2021  \\\\n**RE:** Town Manager’s Report\\\\n\\\\n## INTRODUCTION\\\\nThis monthly report serves as an update to Council on key projects, activities, and community issues.\\\\n\\\\n## LIMITED COVID-19 RESTRICTIONS\\\\nOn April 16th, the COVID-19 Dial evolved into Public Health Order 20-38: Limited COVID-19 Restrictions, which allows counties to implement regulations at the local level while still maintaining some limited requirements across the state. Counties may use the statewide dial framework as a model for implementing their own regulations. However, the Dial is no longer a restriction. Click [HERE](#) to check out Public Health Order 20-38: Limited COVID-19 Restrictions.\\\\n\\\\n## OURAY COUNTY PUBLIC HEALTH ORDER NO. 12\\\\nThe Ouray County Board of Health and Ouray County Public Health Director enacted Ouray County Public Health Order No. 12, requiring all persons to wear a face covering within any public indoor space in Ouray County. The order went into effect on May 7th and will remain in effect until June 6th. Click [HERE](#) to check out the Order.\\\\n\\\\n## HERITAGE PARK IMPROVEMENTS PROJECT\\\\nWork is underway! A crew from Clarke & Co. is on site and has begun constructing Phases 1 and 2 of the Heritage Park/Visitor Center landscape and irrigation improvements. Phase 1 consists of installing an irrigation system, soil improvements, and planting shrubs, perennials, and ornamental grasses around the Visitor Center. Phase 2 consists of installing hardscape, landscape, and irrigation along Highway 62 at Heritage Park. The crew is slated to be on site under the work is complete, which, right now, is scheduled for early to mid-July. [image_0](/image_0)\\\\n\\\\n## VISITOR CENTER IMPROVEMENTS\\\\nThe functional and COVID-19-related renovations to the Visitor Center are inching closer to completion. The Visitor Center will open later this month. The fourth\"\\n}'}]}]}"
      ]
     },
     "execution_count": 5,
     "metadata": {},
     "output_type": "execute_result"
    }
   ],
   "source": [
    "qwen_dataset[0]"
   ]
  },
  {
   "cell_type": "code",
   "execution_count": null,
   "metadata": {},
   "outputs": [],
   "source": []
  }
 ],
 "metadata": {
  "kernelspec": {
   "display_name": ".venv",
   "language": "python",
   "name": "python3"
  },
  "language_info": {
   "codemirror_mode": {
    "name": "ipython",
    "version": 3
   },
   "file_extension": ".py",
   "mimetype": "text/x-python",
   "name": "python",
   "nbconvert_exporter": "python",
   "pygments_lexer": "ipython3",
   "version": "3.11.7"
  }
 },
 "nbformat": 4,
 "nbformat_minor": 2
}
